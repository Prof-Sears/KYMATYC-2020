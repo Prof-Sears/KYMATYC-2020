{
 "cells": [
  {
   "cell_type": "markdown",
   "metadata": {},
   "source": [
    "# Huntington-Hill Proportional Distribution - 1996 Results\n",
    "\n",
    "We take the votes from the 1996 U.S. Presidentail Election and distribute the electoral votes proportionally.\n",
    "\n",
    "## Import Pandas libraries"
   ]
  },
  {
   "cell_type": "code",
   "execution_count": 10,
   "metadata": {},
   "outputs": [],
   "source": [
    "import math\n",
    "import numpy as np\n",
    "import pandas as pd"
   ]
  },
  {
   "cell_type": "markdown",
   "metadata": {},
   "source": [
    "## Distribute electors proportionally\n",
    "\n",
    "This function takes a list of votes and a number of electors and then calculates the proportional distribution using the Huntington-Hill method. Apportionment starts at 0, unlike in apportioning congressional seats."
   ]
  },
  {
   "cell_type": "code",
   "execution_count": 11,
   "metadata": {},
   "outputs": [],
   "source": [
    "# This is a function to do Huntington-Hill apportionment using Proportional parts\n",
    "# states_df: a Pandas dataframe containing the following series: 'State', 'Population'\n",
    "def Huntington_Hill(votes, electors):\n",
    "    priority_values = {}\n",
    "    apportionment = {}\n",
    "    \n",
    "    print('State {0}'.format(votes['State']))\n",
    "    \n",
    "    for i in votes.keys():\n",
    "        if(not i == 'State'):\n",
    "            apportionment[i] = 0\n",
    "            priority_values[i] = votes[i]\n",
    "        \n",
    "    for i in range(electors):\n",
    "        maxpos = max(priority_values, key=priority_values.get)\n",
    "        apportionment[maxpos] += 1\n",
    "        priority_values[maxpos] = votes[maxpos]/math.sqrt(apportionment[maxpos]*(apportionment[maxpos]+1))\n",
    "        \n",
    "    return apportionment"
   ]
  },
  {
   "cell_type": "markdown",
   "metadata": {},
   "source": [
    "## Process election results\n",
    "\n",
    "\n",
    "This functions takes a Pandas dataframe of votes from each state, and another dataframe of electoral votes for each state. The function then does the Huntington-Hill apportionment of electors for each state. The results is a dataframe containing the electoral votes for each candidate in every state."
   ]
  },
  {
   "cell_type": "code",
   "execution_count": 12,
   "metadata": {},
   "outputs": [],
   "source": [
    "def process_election(votes_df, electoral_df):\n",
    "    results_list = []\n",
    "    votes_rows = votes_df.to_dict('records')\n",
    "    \n",
    "    for i in range(len(votes_rows)):\n",
    "        results_list.append(Huntington_Hill(votes_rows[i], electoral_df.at[i,'Electoral Votes']))\n",
    "        \n",
    "    results_df = pd.DataFrame(results_list)\n",
    "    \n",
    "    return results_df\n",
    "            "
   ]
  },
  {
   "cell_type": "code",
   "execution_count": 13,
   "metadata": {},
   "outputs": [
    {
     "name": "stdout",
     "output_type": "stream",
     "text": [
      "State Alabama\n",
      "State Alaska\n",
      "State Arizona\n",
      "State Arkansas\n",
      "State California\n",
      "State Colorado\n",
      "State Connecticut\n",
      "State Delaware\n",
      "State District of Columbia \n",
      "State Florida\n",
      "State Georgia\n",
      "State Hawaii\n",
      "State Idaho\n",
      "State Illinois\n",
      "State Indiana\n",
      "State Iowa\n",
      "State Kansas\n",
      "State Kentucky\n",
      "State Louisiana\n",
      "State Maine\n",
      "State Maryland\n",
      "State Massachusetts\n",
      "State Michigan\n",
      "State Minnesota\n",
      "State Mississippi\n",
      "State Missouri\n",
      "State Montana\n",
      "State Nebraska\n",
      "State Nevada\n",
      "State New Hampshire\n",
      "State New Jersey\n",
      "State New Mexico\n",
      "State New York\n",
      "State North Carolina\n",
      "State North Dakota\n",
      "State Ohio\n",
      "State Oklahoma\n",
      "State Oregon\n",
      "State Pennsylvania\n",
      "State Rhode Island\n",
      "State South Carolina\n",
      "State South Dakota\n",
      "State Tennessee\n",
      "State Texas\n",
      "State Utah\n",
      "State Vermont\n",
      "State Virginia\n",
      "State Washington\n",
      "State West Virginia\n",
      "State Wisconsin\n",
      "State Wyoming\n"
     ]
    }
   ],
   "source": [
    "votes_df = pd.read_csv('1996_votes.csv')\n",
    "electoral_df = pd.read_csv('Census_Data_By_Year - 1990.csv')\n",
    "results_df = process_election(votes_df, electoral_df)"
   ]
  },
  {
   "cell_type": "markdown",
   "metadata": {},
   "source": [
    "## Summarize the results\n",
    "\n",
    "The distribution of electors is printed for each state. Then the totals are printed."
   ]
  },
  {
   "cell_type": "code",
   "execution_count": 14,
   "metadata": {},
   "outputs": [
    {
     "name": "stdout",
     "output_type": "stream",
     "text": [
      "    Clinton  Dole  Perot  Nader  Browne  Other\n",
      "0         4     5      0      0       0      0\n",
      "1         1     2      0      0       0      0\n",
      "2         4     4      0      0       0      0\n",
      "3         4     2      0      0       0      0\n",
      "4        28    21      4      1       0      0\n",
      "5         4     4      0      0       0      0\n",
      "6         5     3      0      0       0      0\n",
      "7         2     1      0      0       0      0\n",
      "8         3     0      0      0       0      0\n",
      "9        12    11      2      0       0      0\n",
      "10        6     7      0      0       0      0\n",
      "11        3     1      0      0       0      0\n",
      "12        2     2      0      0       0      0\n",
      "13       12     8      2      0       0      0\n",
      "14        5     6      1      0       0      0\n",
      "15        4     3      0      0       0      0\n",
      "16        2     4      0      0       0      0\n",
      "17        4     4      0      0       0      0\n",
      "18        5     4      0      0       0      0\n",
      "19        2     2      0      0       0      0\n",
      "20        6     4      0      0       0      0\n",
      "21        8     3      1      0       0      0\n",
      "22        9     7      2      0       0      0\n",
      "23        5     4      1      0       0      0\n",
      "24        3     4      0      0       0      0\n",
      "25        5     5      1      0       0      0\n",
      "26        1     2      0      0       0      0\n",
      "27        2     3      0      0       0      0\n",
      "28        2     2      0      0       0      0\n",
      "29        2     2      0      0       0      0\n",
      "30        8     6      1      0       0      0\n",
      "31        3     2      0      0       0      0\n",
      "32       20    10      3      0       0      0\n",
      "33        7     7      0      0       0      0\n",
      "34        1     2      0      0       0      0\n",
      "35       10     9      2      0       0      0\n",
      "36        4     4      0      0       0      0\n",
      "37        4     3      0      0       0      0\n",
      "38       12     9      2      0       0      0\n",
      "39        3     1      0      0       0      0\n",
      "40        4     4      0      0       0      0\n",
      "41        1     2      0      0       0      0\n",
      "42        6     5      0      0       0      0\n",
      "43       14    16      2      0       0      0\n",
      "44        2     3      0      0       0      0\n",
      "45        2     1      0      0       0      0\n",
      "46        6     7      0      0       0      0\n",
      "47        6     4      1      0       0      0\n",
      "48        3     2      0      0       0      0\n",
      "49        6     4      1      0       0      0\n",
      "50        1     2      0      0       0      0\n",
      "\n",
      "\n",
      "\t\tTotals\n",
      "Clinton    278\n",
      "Dole       233\n",
      "Perot       26\n",
      "Nader        1\n",
      "Browne       0\n",
      "Other        0\n",
      "dtype: int64\n"
     ]
    }
   ],
   "source": [
    "print(results_df)\n",
    "print('\\n\\n\\t\\tTotals')\n",
    "print(results_df.sum())"
   ]
  },
  {
   "cell_type": "markdown",
   "metadata": {},
   "source": [
    "## Now repeat with the \"maximal\" apportionment"
   ]
  },
  {
   "cell_type": "code",
   "execution_count": 15,
   "metadata": {
    "scrolled": true
   },
   "outputs": [
    {
     "name": "stdout",
     "output_type": "stream",
     "text": [
      "State Alabama\n",
      "State Alaska\n",
      "State Arizona\n",
      "State Arkansas\n",
      "State California\n",
      "State Colorado\n",
      "State Connecticut\n",
      "State Delaware\n",
      "State District of Columbia \n",
      "State Florida\n",
      "State Georgia\n",
      "State Hawaii\n",
      "State Idaho\n",
      "State Illinois\n",
      "State Indiana\n",
      "State Iowa\n",
      "State Kansas\n",
      "State Kentucky\n",
      "State Louisiana\n",
      "State Maine\n",
      "State Maryland\n",
      "State Massachusetts\n",
      "State Michigan\n",
      "State Minnesota\n",
      "State Mississippi\n",
      "State Missouri\n",
      "State Montana\n",
      "State Nebraska\n",
      "State Nevada\n",
      "State New Hampshire\n",
      "State New Jersey\n",
      "State New Mexico\n",
      "State New York\n",
      "State North Carolina\n",
      "State North Dakota\n",
      "State Ohio\n",
      "State Oklahoma\n",
      "State Oregon\n",
      "State Pennsylvania\n",
      "State Rhode Island\n",
      "State South Carolina\n",
      "State South Dakota\n",
      "State Tennessee\n",
      "State Texas\n",
      "State Utah\n",
      "State Vermont\n",
      "State Virginia\n",
      "State Washington\n",
      "State West Virginia\n",
      "State Wisconsin\n",
      "State Wyoming\n"
     ]
    }
   ],
   "source": [
    "max_electoral_df = pd.read_csv('max_1990_apportionment.csv')\n",
    "max_results_df = process_election(votes_df, max_electoral_df)"
   ]
  },
  {
   "cell_type": "code",
   "execution_count": 16,
   "metadata": {},
   "outputs": [
    {
     "name": "stdout",
     "output_type": "stream",
     "text": [
      "    Clinton  Dole  Perot  Nader  Browne  Other\n",
      "0         7     8      0      0       0      0\n",
      "1         2     2      0      0       0      0\n",
      "2         6     6      1      0       0      0\n",
      "3         5     4      0      0       0      0\n",
      "4        49    37      7      2       0      0\n",
      "5         6     6      0      0       0      0\n",
      "6         7     4      1      0       0      0\n",
      "7         2     2      0      0       0      0\n",
      "8         3     0      0      0       0      0\n",
      "9        20    18      4      0       0      0\n",
      "10       10    10      2      0       0      0\n",
      "11        3     2      0      0       0      0\n",
      "12        2     3      0      0       0      0\n",
      "13       21    14      3      0       0      0\n",
      "14        8     9      2      0       0      0\n",
      "15        6     5      0      0       0      0\n",
      "16        4     6      0      0       0      0\n",
      "17        6     6      1      0       0      0\n",
      "18        8     6      1      0       0      0\n",
      "19        4     2      0      0       0      0\n",
      "20        9     7      1      0       0      0\n",
      "21       13     6      2      0       0      0\n",
      "22       16    12      3      0       0      0\n",
      "23        8     6      2      0       0      0\n",
      "24        5     5      0      0       0      0\n",
      "25        9     7      2      0       0      0\n",
      "26        2     3      0      0       0      0\n",
      "27        3     4      0      0       0      0\n",
      "28        3     3      0      0       0      0\n",
      "29        3     2      0      0       0      0\n",
      "30       14    10      2      0       0      0\n",
      "31        4     3      0      0       0      0\n",
      "32       35    18      5      0       0      0\n",
      "33       10    11      2      0       0      0\n",
      "34        2     2      0      0       0      0\n",
      "35       17    15      4      0       0      0\n",
      "36        5     6      1      0       0      0\n",
      "37        5     5      1      0       0      0\n",
      "38       19    16      4      0       0      0\n",
      "39        3     2      0      0       0      0\n",
      "40        6     7      0      0       0      0\n",
      "41        2     2      0      0       0      0\n",
      "42        9     8      0      0       0      0\n",
      "43       24    27      4      0       0      0\n",
      "44        3     4      0      0       0      0\n",
      "45        2     2      0      0       0      0\n",
      "46       10    10      1      0       0      0\n",
      "47        9     6      2      0       0      0\n",
      "48        5     3      0      0       0      0\n",
      "49        8     7      2      0       0      0\n",
      "50        2     2      0      0       0      0\n",
      "\n",
      "\n",
      "\t\tTotals\n",
      "Clinton    444\n",
      "Dole       371\n",
      "Perot       60\n",
      "Nader        2\n",
      "Browne       0\n",
      "Other        0\n",
      "dtype: int64\n"
     ]
    }
   ],
   "source": [
    "print(max_results_df)\n",
    "print('\\n\\n\\t\\tTotals')\n",
    "print(max_results_df.sum())"
   ]
  },
  {
   "cell_type": "code",
   "execution_count": null,
   "metadata": {},
   "outputs": [],
   "source": []
  }
 ],
 "metadata": {
  "kernelspec": {
   "display_name": "Python 3",
   "language": "python",
   "name": "python3"
  },
  "language_info": {
   "codemirror_mode": {
    "name": "ipython",
    "version": 3
   },
   "file_extension": ".py",
   "mimetype": "text/x-python",
   "name": "python",
   "nbconvert_exporter": "python",
   "pygments_lexer": "ipython3",
   "version": "3.7.4"
  }
 },
 "nbformat": 4,
 "nbformat_minor": 2
}
