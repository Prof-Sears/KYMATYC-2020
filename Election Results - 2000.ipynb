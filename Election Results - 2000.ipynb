{
 "cells": [
  {
   "cell_type": "code",
   "execution_count": 4,
   "metadata": {},
   "outputs": [],
   "source": [
    "# Import libraries\n",
    "import numpy as np\n",
    "import pandas as pd"
   ]
  },
  {
   "cell_type": "code",
   "execution_count": 5,
   "metadata": {},
   "outputs": [],
   "source": [
    "# Import Electoral College Votes and Election Results\n",
    "electoral_df = pd.read_csv(\"max_1990_apportionment.csv\")\n",
    "voting_df = pd.read_csv(\"2000_results.csv\")\n",
    "#print(electoral_df)\n",
    "#print(voting_df)"
   ]
  },
  {
   "cell_type": "code",
   "execution_count": 6,
   "metadata": {},
   "outputs": [],
   "source": [
    "def winner(electoral_df, voting_df):\n",
    "    results_list = []\n",
    "    for index, value in electoral_df['State'].items():\n",
    "        if(voting_df.at[index,'Result'] > 0):\n",
    "            results_list.append({'State':value,\n",
    "                                 'Dem':voting_df.at[index,'Result']*electoral_df.at[index,'Electoral Votes'],\n",
    "                                 'Rep':(1-voting_df.at[index,'Result'])*electoral_df.at[index,'Electoral Votes']})\n",
    "        else:\n",
    "            results_list.append({'State':value,\n",
    "                                 'Dem':(1+voting_df.at[index,'Result'])*electoral_df.at[index,'Electoral Votes'],\n",
    "                                 'Rep':(0-voting_df.at[index,'Result'])*electoral_df.at[index,'Electoral Votes']})\n",
    "         \n",
    "        results = pd.DataFrame(results_list, columns=(['State','Dem', 'Rep']))\n",
    "    return results"
   ]
  },
  {
   "cell_type": "code",
   "execution_count": 7,
   "metadata": {
    "scrolled": false
   },
   "outputs": [
    {
     "name": "stdout",
     "output_type": "stream",
     "text": [
      "                   State  Dem  Rep\n",
      "0                Alabama    0   15\n",
      "1                 Alaska    0    4\n",
      "2                Arizona    0   13\n",
      "3               Arkansas    0    9\n",
      "4             California   95    0\n",
      "5               Colorado    0   12\n",
      "6            Connecticut   12    0\n",
      "7               Delaware    4    0\n",
      "8   District of Columbia    3    0\n",
      "9                Florida    0   42\n",
      "10               Georgia    0   22\n",
      "11                Hawaii    5    0\n",
      "12                 Idaho    0    5\n",
      "13              Illinois   38    0\n",
      "14               Indiana    0   19\n",
      "15                  Iowa   11    0\n",
      "16                Kansas    0   10\n",
      "17              Kentucky    0   13\n",
      "18             Louisiana    0   15\n",
      "19                 Maine    6    0\n",
      "20              Maryland   17    0\n",
      "21         Massachusetts   21    0\n",
      "22              Michigan   31    0\n",
      "23             Minnesota   16    0\n",
      "24           Mississippi    0   10\n",
      "25              Missouri    0   18\n",
      "26               Montana    0    5\n",
      "27              Nebraska    0    7\n",
      "28                Nevada    0    6\n",
      "29         New Hampshire    0    5\n",
      "30            New Jersey   26    0\n",
      "31            New Mexico    7    0\n",
      "32              New York   58    0\n",
      "33        North Carolina    0   23\n",
      "34          North Dakota    0    4\n",
      "35                  Ohio    0   36\n",
      "36              Oklahoma    0   12\n",
      "37                Oregon   11    0\n",
      "38          Pennsylvania   39    0\n",
      "39          Rhode Island    5    0\n",
      "40        South Carolina    0   13\n",
      "41          South Dakota    0    4\n",
      "42             Tennessee    0   17\n",
      "43                 Texas    0   55\n",
      "44                  Utah    0    7\n",
      "45               Vermont    4    0\n",
      "46              Virginia    0   21\n",
      "47            Washington   17    0\n",
      "48         West Virginia    0    8\n",
      "49             Wisconsin   17    0\n",
      "50               Wyoming    0    4\n"
     ]
    }
   ],
   "source": [
    "results = winner(electoral_df, voting_df)\n",
    "print(results)"
   ]
  },
  {
   "cell_type": "code",
   "execution_count": 8,
   "metadata": {},
   "outputs": [
    {
     "name": "stdout",
     "output_type": "stream",
     "text": [
      "Election Results\n",
      "Democrat: 443\tRepublican 434\n"
     ]
    }
   ],
   "source": [
    "print('Election Results\\nDemocrat: {0}\\tRepublican {1}'.format(results['Dem'].sum(),results['Rep'].sum()))"
   ]
  },
  {
   "cell_type": "code",
   "execution_count": 9,
   "metadata": {},
   "outputs": [
    {
     "name": "stdout",
     "output_type": "stream",
     "text": [
      "877\n"
     ]
    }
   ],
   "source": [
    "print(electoral_df['Electoral Votes'].sum())"
   ]
  }
 ],
 "metadata": {
  "kernelspec": {
   "display_name": "Python 3",
   "language": "python",
   "name": "python3"
  },
  "language_info": {
   "codemirror_mode": {
    "name": "ipython",
    "version": 3
   },
   "file_extension": ".py",
   "mimetype": "text/x-python",
   "name": "python",
   "nbconvert_exporter": "python",
   "pygments_lexer": "ipython3",
   "version": "3.8.1"
  }
 },
 "nbformat": 4,
 "nbformat_minor": 2
}
