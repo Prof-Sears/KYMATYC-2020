{
 "cells": [
  {
   "cell_type": "markdown",
   "metadata": {},
   "source": [
    "# Huntington-Hill Proportional Distribution - 2016 Results\n",
    "\n",
    "We take the votes from the 2016 U.S. Presidentail Election and distribute the electoral votes proportionally.\n",
    "\n",
    "## Import Pandas libraries"
   ]
  },
  {
   "cell_type": "code",
   "execution_count": 1,
   "metadata": {},
   "outputs": [],
   "source": [
    "import math\n",
    "import numpy as np\n",
    "import pandas as pd"
   ]
  },
  {
   "cell_type": "markdown",
   "metadata": {},
   "source": [
    "## Distribute electors proportionally\n",
    "\n",
    "This function takes a list of votes and a number of electors and then calculates the proportional distribution using the Huntington-Hill method. Apportionment starts at 0, unlike in apportioning congressional seats."
   ]
  },
  {
   "cell_type": "code",
   "execution_count": 2,
   "metadata": {},
   "outputs": [],
   "source": [
    "# This is a function to do Huntington-Hill apportionment using Proportional parts\n",
    "# states_df: a Pandas dataframe containing the following series: 'State', 'Population'\n",
    "def Huntington_Hill(votes, electors):\n",
    "    priority_values = {}\n",
    "    apportionment = {}\n",
    "    \n",
    "    print('State {0}'.format(votes['State']))\n",
    "    \n",
    "    for i in votes.keys():\n",
    "        if(not i == 'State'):\n",
    "            apportionment[i] = 0\n",
    "            priority_values[i] = votes[i]\n",
    "        \n",
    "    for i in range(electors):\n",
    "        maxpos = max(priority_values, key=priority_values.get)\n",
    "        apportionment[maxpos] += 1\n",
    "        priority_values[maxpos] = votes[maxpos]/math.sqrt(apportionment[maxpos]*(apportionment[maxpos]+1))\n",
    "        \n",
    "    return apportionment"
   ]
  },
  {
   "cell_type": "markdown",
   "metadata": {},
   "source": [
    "## Process election results\n",
    "\n",
    "\n",
    "This functions takes a Pandas dataframe of votes from each state, and another dataframe of electoral votes for each state. The function then does the Huntington-Hill apportionment of electors for each state. The results is a dataframe containing the electoral votes for each candidate in every state."
   ]
  },
  {
   "cell_type": "code",
   "execution_count": 3,
   "metadata": {},
   "outputs": [],
   "source": [
    "def process_election(votes_df, electoral_df):\n",
    "    results_list = []\n",
    "    votes_rows = votes_df.to_dict('records')\n",
    "    \n",
    "    for i in range(len(votes_rows)):\n",
    "        results_list.append(Huntington_Hill(votes_rows[i], electoral_df.at[i,'Electoral Votes']))\n",
    "        \n",
    "    results_df = pd.DataFrame(results_list)\n",
    "    \n",
    "    return results_df\n",
    "            "
   ]
  },
  {
   "cell_type": "code",
   "execution_count": 4,
   "metadata": {},
   "outputs": [
    {
     "name": "stdout",
     "output_type": "stream",
     "text": [
      "State Alabama\n",
      "State Alaska\n",
      "State Arizona\n",
      "State Arkansas\n",
      "State California\n",
      "State Colorado\n",
      "State Connecticut\n",
      "State Delaware\n",
      "State District of Columbia\n",
      "State Florida\n",
      "State Georgia\n",
      "State Hawaii\n",
      "State Idaho\n",
      "State Illinois\n",
      "State Indiana\n",
      "State Iowa\n",
      "State Kansas\n",
      "State Kentucky\n",
      "State Louisiana\n",
      "State Maine\n",
      "State Maryland\n",
      "State Massachusetts\n",
      "State Michigan\n",
      "State Minnesota\n",
      "State Mississippi\n",
      "State Missouri\n",
      "State Montana\n",
      "State Nebraska\n",
      "State Nevada\n",
      "State New Hampshire\n",
      "State New Jersey\n",
      "State New Mexico\n",
      "State New York\n",
      "State North Carolina\n",
      "State North Dakota\n",
      "State Ohio\n",
      "State Oklahoma\n",
      "State Oregon\n",
      "State Pennsylvania\n",
      "State Rhode Island\n",
      "State South Carolina\n",
      "State South Dakota\n",
      "State Tennessee\n",
      "State Texas\n",
      "State Utah\n",
      "State Vermont\n",
      "State Virginia\n",
      "State Washington\n",
      "State West Virginia\n",
      "State Wisconsin\n",
      "State Wyoming\n"
     ]
    }
   ],
   "source": [
    "votes_df = pd.read_csv('2016_votes.csv')\n",
    "electoral_df = pd.read_csv('Census_Data_By_Year - 2010.csv')\n",
    "results_df = process_election(votes_df, electoral_df)"
   ]
  },
  {
   "cell_type": "markdown",
   "metadata": {},
   "source": [
    "## Summarize the results\n",
    "\n",
    "The distribution of electors is printed for each state. Then the totals are printed."
   ]
  },
  {
   "cell_type": "code",
   "execution_count": 5,
   "metadata": {},
   "outputs": [
    {
     "name": "stdout",
     "output_type": "stream",
     "text": [
      "    Clinton  Trump  Johnson  Stein  McMullin  Other\n",
      "0         3      6        0      0         0      0\n",
      "1         1      2        0      0         0      0\n",
      "2         5      6        0      0         0      0\n",
      "3         2      4        0      0         0      0\n",
      "4        34     18        2      1         0      0\n",
      "5         5      4        0      0         0      0\n",
      "6         4      3        0      0         0      0\n",
      "7         2      1        0      0         0      0\n",
      "8         3      0        0      0         0      0\n",
      "9        14     15        0      0         0      0\n",
      "10        8      8        0      0         0      0\n",
      "11        3      1        0      0         0      0\n",
      "12        1      3        0      0         0      0\n",
      "13       12      8        0      0         0      0\n",
      "14        4      7        0      0         0      0\n",
      "15        3      3        0      0         0      0\n",
      "16        2      4        0      0         0      0\n",
      "17        3      5        0      0         0      0\n",
      "18        3      5        0      0         0      0\n",
      "19        2      2        0      0         0      0\n",
      "20        6      4        0      0         0      0\n",
      "21        7      4        0      0         0      0\n",
      "22        8      8        0      0         0      0\n",
      "23        5      5        0      0         0      0\n",
      "24        2      4        0      0         0      0\n",
      "25        4      6        0      0         0      0\n",
      "26        1      2        0      0         0      0\n",
      "27        2      3        0      0         0      0\n",
      "28        3      3        0      0         0      0\n",
      "29        2      2        0      0         0      0\n",
      "30        8      6        0      0         0      0\n",
      "31        3      2        0      0         0      0\n",
      "32       18     11        0      0         0      0\n",
      "33        7      8        0      0         0      0\n",
      "34        1      2        0      0         0      0\n",
      "35        8     10        0      0         0      0\n",
      "36        2      5        0      0         0      0\n",
      "37        4      3        0      0         0      0\n",
      "38       10     10        0      0         0      0\n",
      "39        2      2        0      0         0      0\n",
      "40        4      5        0      0         0      0\n",
      "41        1      2        0      0         0      0\n",
      "42        4      7        0      0         0      0\n",
      "43       17     20        1      0         0      0\n",
      "44        2      3        0      0         1      0\n",
      "45        2      1        0      0         0      0\n",
      "46        7      6        0      0         0      0\n",
      "47        7      5        0      0         0      0\n",
      "48        1      4        0      0         0      0\n",
      "49        5      5        0      0         0      0\n",
      "50        0      3        0      0         0      0\n",
      "\n",
      "\n",
      "\t\tTotals\n",
      "Clinton     267\n",
      "Trump       266\n",
      "Johnson       3\n",
      "Stein         1\n",
      "McMullin      1\n",
      "Other         0\n",
      "dtype: int64\n"
     ]
    }
   ],
   "source": [
    "print(results_df)\n",
    "print('\\n\\n\\t\\tTotals')\n",
    "print(results_df.sum())"
   ]
  },
  {
   "cell_type": "markdown",
   "metadata": {},
   "source": [
    "## Now repeat with the \"maximal\" apportionment"
   ]
  },
  {
   "cell_type": "code",
   "execution_count": 6,
   "metadata": {
    "scrolled": true
   },
   "outputs": [
    {
     "name": "stdout",
     "output_type": "stream",
     "text": [
      "State Alabama\n",
      "State Alaska\n",
      "State Arizona\n",
      "State Arkansas\n",
      "State California\n",
      "State Colorado\n",
      "State Connecticut\n",
      "State Delaware\n",
      "State District of Columbia\n",
      "State Florida\n",
      "State Georgia\n",
      "State Hawaii\n",
      "State Idaho\n",
      "State Illinois\n",
      "State Indiana\n",
      "State Iowa\n",
      "State Kansas\n",
      "State Kentucky\n",
      "State Louisiana\n",
      "State Maine\n",
      "State Maryland\n",
      "State Massachusetts\n",
      "State Michigan\n",
      "State Minnesota\n",
      "State Mississippi\n",
      "State Missouri\n",
      "State Montana\n",
      "State Nebraska\n",
      "State Nevada\n",
      "State New Hampshire\n",
      "State New Jersey\n",
      "State New Mexico\n",
      "State New York\n",
      "State North Carolina\n",
      "State North Dakota\n",
      "State Ohio\n",
      "State Oklahoma\n",
      "State Oregon\n",
      "State Pennsylvania\n",
      "State Rhode Island\n",
      "State South Carolina\n",
      "State South Dakota\n",
      "State Tennessee\n",
      "State Texas\n",
      "State Utah\n",
      "State Vermont\n",
      "State Virginia\n",
      "State Washington\n",
      "State West Virginia\n",
      "State Wisconsin\n",
      "State Wyoming\n"
     ]
    }
   ],
   "source": [
    "max_electoral_df = pd.read_csv('max_2010_apportionment.csv')\n",
    "max_results_df = process_election(votes_df, max_electoral_df)"
   ]
  },
  {
   "cell_type": "code",
   "execution_count": 7,
   "metadata": {},
   "outputs": [
    {
     "name": "stdout",
     "output_type": "stream",
     "text": [
      "    Clinton  Trump  Johnson  Stein  McMullin  Other\n",
      "0         5      9        0      0         0      0\n",
      "1         2      2        0      0         0      0\n",
      "2         9      9        0      0         0      0\n",
      "3         3      6        0      0         0      0\n",
      "4        59     30        3      2         0      1\n",
      "5         8      7        0      0         0      0\n",
      "6         6      5        0      0         0      0\n",
      "7         2      2        0      0         0      0\n",
      "8         3      0        0      0         0      0\n",
      "9        24     24        1      0         0      0\n",
      "10       12     14        0      0         0      0\n",
      "11        3      2        0      0         0      0\n",
      "12        2      4        0      0         0      0\n",
      "13       19     14        1      0         0      0\n",
      "14        7     11        0      0         0      0\n",
      "15        4      6        0      0         0      0\n",
      "16        4      5        0      0         0      0\n",
      "17        4      9        0      0         0      0\n",
      "18        5      8        0      0         0      0\n",
      "19        3      2        0      0         0      0\n",
      "20       10      6        0      0         0      0\n",
      "21       12      6        0      0         0      0\n",
      "22       13     13        1      0         0      0\n",
      "23        8      7        0      0         0      0\n",
      "24        4      5        0      0         0      0\n",
      "25        7     10        0      0         0      0\n",
      "26        2      3        0      0         0      0\n",
      "27        3      4        0      0         0      0\n",
      "28        5      4        0      0         0      0\n",
      "29        3      2        0      0         0      0\n",
      "30       14     10        0      0         0      0\n",
      "31        4      3        0      0         0      0\n",
      "32       31     19        1      0         0      0\n",
      "33       13     13        0      0         0      0\n",
      "34        1      3        0      0         0      0\n",
      "35       14     16        1      0         0      0\n",
      "36        3      8        0      0         0      0\n",
      "37        7      5        0      0         0      0\n",
      "38       17     17        0      0         0      0\n",
      "39        3      2        0      0         0      0\n",
      "40        6      8        0      0         0      0\n",
      "41        1      3        0      0         0      0\n",
      "42        7     11        0      0         0      0\n",
      "43       29     34        2      0         0      0\n",
      "44        3      4        0      0         2      0\n",
      "45        3      1        0      0         0      0\n",
      "46       12     10        0      0         0      0\n",
      "47       11      8        0      0         0      0\n",
      "48        2      5        0      0         0      0\n",
      "49        8      8        0      0         0      0\n",
      "50        1      3        0      0         0      0\n",
      "\n",
      "\n",
      "\t\tTotals\n",
      "Clinton     441\n",
      "Trump       420\n",
      "Johnson      10\n",
      "Stein         2\n",
      "McMullin      2\n",
      "Other         1\n",
      "dtype: int64\n"
     ]
    }
   ],
   "source": [
    "print(max_results_df)\n",
    "print('\\n\\n\\t\\tTotals')\n",
    "print(max_results_df.sum())"
   ]
  }
 ],
 "metadata": {
  "kernelspec": {
   "display_name": "Python 3",
   "language": "python",
   "name": "python3"
  },
  "language_info": {
   "codemirror_mode": {
    "name": "ipython",
    "version": 3
   },
   "file_extension": ".py",
   "mimetype": "text/x-python",
   "name": "python",
   "nbconvert_exporter": "python",
   "pygments_lexer": "ipython3",
   "version": "3.8.1"
  }
 },
 "nbformat": 4,
 "nbformat_minor": 2
}
