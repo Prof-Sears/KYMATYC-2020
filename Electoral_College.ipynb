{
 "cells": [
  {
   "cell_type": "markdown",
   "metadata": {},
   "source": [
    "# A Jypyter Notebook For Analyzing the Relative Unfairness of the Electoral College Over Time"
   ]
  },
  {
   "cell_type": "markdown",
   "metadata": {},
   "source": [
    "## Import the dependencies for the project."
   ]
  },
  {
   "cell_type": "code",
   "execution_count": 1,
   "metadata": {},
   "outputs": [],
   "source": [
    "import numpy as np\n",
    "import pandas as pd\n",
    "import matplotlib.pyplot as plt"
   ]
  },
  {
   "cell_type": "markdown",
   "metadata": {},
   "source": [
    "## Generate a list of filenames."
   ]
  },
  {
   "cell_type": "code",
   "execution_count": 2,
   "metadata": {},
   "outputs": [],
   "source": [
    "filenames = []\n",
    "for i in range(1790, 2020, 10):\n",
    "    filenames.append('Census_Data_By_Year - {0}.csv'.format(i))"
   ]
  },
  {
   "cell_type": "markdown",
   "metadata": {},
   "source": [
    "## Import census and apportionment data for each census"
   ]
  },
  {
   "cell_type": "code",
   "execution_count": 4,
   "metadata": {
    "scrolled": false
   },
   "outputs": [
    {
     "name": "stdout",
     "output_type": "stream",
     "text": [
      "1790\n",
      "Most unfairly represented state: Virginia, relative unfairness: 1.069043\n",
      "Centroid: 0.3147974086889945\n",
      "1800\n",
      "Most unfairly represented state: Kentucky, relative unfairness: 2.1965939999999997\n",
      "Centroid: 0.5938710061154103\n",
      "1810\n",
      "Most unfairly represented state: Virginia, relative unfairness: 1.16452\n",
      "Centroid: 0.30311880746057623\n",
      "1820\n",
      "Most unfairly represented state: Ohio, relative unfairness: 2.996165\n",
      "Centroid: 0.9062439657059841\n",
      "1830\n",
      "Most unfairly represented state: SouthCarolina, relative unfairness: 1.174302\n",
      "Centroid: 0.22457459184244896\n",
      "1840\n",
      "Most unfairly represented state: Missouri, relative unfairness: 2.6854259999999996\n",
      "Centroid: 0.7619730062592163\n",
      "1850\n",
      "Most unfairly represented state: Virginia, relative unfairness: 3.094189\n",
      "Centroid: 0.31457871911683793\n",
      "1860\n",
      "Most unfairly represented state: Iowa, relative unfairness: 8.648046\n",
      "Centroid: 0.8341614006983658\n",
      "1870\n",
      "Most unfairly represented state: NewYork, relative unfairness: 7.7484\n",
      "Centroid: 0.336710960942463\n",
      "1880\n",
      "Most unfairly represented state: Kansas, relative unfairness: 8.598458\n",
      "Centroid: 0.6294573295974825\n",
      "1890\n",
      "Most unfairly represented state: NewYork, relative unfairness: 9.564133\n",
      "Centroid: 0.3644739068335905\n",
      "1900\n",
      "Most unfairly represented state: Texas, relative unfairness: 13.402787\n",
      "Centroid: 0.39686481191296985\n",
      "1910\n",
      "Most unfairly represented state: NewYork, relative unfairness: 6.4207540000000005\n",
      "Centroid: 0.26715936782828464\n",
      "1920\n",
      "Most unfairly represented state: California, relative unfairness: 9.216312\n",
      "Centroid: 0.44512286148810576\n",
      "1930\n",
      "Most unfairly represented state: NewYork, relative unfairness: 7.823975999999999\n",
      "Centroid: 0.25479280919404174\n",
      "1940\n",
      "Most unfairly represented state: NewYork, relative unfairness: 6.804028999999999\n",
      "Centroid: 0.2536594273212281\n",
      "1950\n",
      "Most unfairly represented state: California, relative unfairness: 6.7148259999999995\n",
      "Centroid: 0.2966572049534521\n",
      "1960\n",
      "Most unfairly represented state: California, relative unfairness: 4.212035\n",
      "Centroid: 0.2748546703967214\n",
      "1970\n",
      "Most unfairly represented state: NewYork, relative unfairness: 3.4423839999999997\n",
      "Centroid: 0.268051549862043\n",
      "1980\n",
      "Most unfairly represented state: California, relative unfairness: 2.7593959999999997\n",
      "Centroid: 0.27507527234266116\n",
      "1990\n",
      "Most unfairly represented state: California, relative unfairness: 2.6450139999999998\n",
      "Centroid: 0.26549201304020653\n",
      "2000\n",
      "Most unfairly represented state: California, relative unfairness: 2.74162\n",
      "Centroid: 0.25340269540843174\n",
      "2010\n",
      "Most unfairly represented state: California, relative unfairness: 2.6052880000000003\n",
      "Centroid: 0.25943112840565513\n"
     ]
    },
    {
     "data": {
      "text/plain": [
       "<Figure size 1152x648 with 0 Axes>"
      ]
     },
     "metadata": {},
     "output_type": "display_data"
    }
   ],
   "source": [
    "# Arrays for storage\n",
    "years = []\n",
    "max_overrep_state = []\n",
    "max_overrep_value = []\n",
    "centroid = []\n",
    "\n",
    "# Loop through the data files.\n",
    "for i in filenames:\n",
    "    print(i[22:26])\n",
    "    years.append(i[22:26])\n",
    "    \n",
    "    # Read the data file\n",
    "    census_df = pd.read_csv(i)\n",
    "\n",
    "    #find index of state with highest relative unfairness\n",
    "    large_idx = census_df['RelativeUnfairness'].idxmax()\n",
    "\n",
    "    print('Most unfairly represented state: {0}, relative unfairness: {1}'.format(census_df.at[large_idx,'State'], census_df.at[large_idx,'RelativeUnfairness']))\n",
    "\n",
    "    worst_reps = census_df.at[large_idx,'ElectoralVotes']\n",
    "    worst_pop = census_df.at[large_idx,'Population']\n",
    "\n",
    "    states = []\n",
    "    overreps = []\n",
    "    moments = []\n",
    "\n",
    "    for row_index, row in census_df.iterrows():\n",
    "        if(row['ElectoralVotes'] > 0):\n",
    "            states.append(row['State'])\n",
    "            overreps.append((row['ElectoralVotes']*worst_pop) / (worst_reps*row['Population']) - 1)\n",
    "            moments.append(overreps[-1] * row['ElectoralVotes'])\n",
    "\n",
    "    d = {'State':states, 'Overrepresentation':overreps, 'Moments':moments}\n",
    "    overrep_df = pd.DataFrame(data=d)\n",
    "    \n",
    "    overrep_idx = overrep_df['Overrepresentation'].idxmax()\n",
    "    max_overrep_value.append(overrep_df.at[overrep_idx,'Overrepresentation'])\n",
    "    max_overrep_state.append(overrep_df.at[overrep_idx,'State'])\n",
    "    \n",
    "    centroid.append(overrep_df['Moments'].sum() / census_df['ElectoralVotes'].sum())\n",
    "    print('Centroid: {0}'.format(centroid[-1]))\n",
    "    \n",
    "    #print(overrep_df)\n",
    "    ax = overrep_df['Overrepresentation'].plot.hist(range=[0,13.5],bins=27,title=i,figsize=(16,9))\n",
    "    ax.set_ylim(0,35)\n",
    "    plt.savefig(i.replace(\"csv\",\"png\"))\n",
    "    plt.clf()\n",
    "    "
   ]
  },
  {
   "cell_type": "markdown",
   "metadata": {},
   "source": [
    "## Collect summaries of data by decade."
   ]
  },
  {
   "cell_type": "code",
   "execution_count": 14,
   "metadata": {},
   "outputs": [
    {
     "name": "stdout",
     "output_type": "stream",
     "text": [
      "    Year        State  Overrepresentation Value  Centroid\n",
      "0   1790  RhodeIsland                  1.069043  0.314797\n",
      "1   1800  RhodeIsland                  2.196594  0.593871\n",
      "2   1810     Delaware                  1.164520  0.303119\n",
      "3   1820     Delaware                  2.996165  0.906244\n",
      "4   1830  RhodeIsland                  1.174302  0.224575\n",
      "5   1840     Delaware                  2.685426  0.761973\n",
      "6   1850   California                  3.094189  0.314579\n",
      "7   1860       Oregon                  8.648046  0.834161\n",
      "8   1870       Nevada                  7.748400  0.336711\n",
      "9   1880       Nevada                  8.598458  0.629457\n",
      "10  1890       Nevada                  9.564133  0.364474\n",
      "11  1900       Nevada                 13.402787  0.396865\n",
      "12  1910       Nevada                  6.420754  0.267159\n",
      "13  1920       Nevada                  9.216312  0.445123\n",
      "14  1930       Nevada                  7.823976  0.254793\n",
      "15  1940       Nevada                  6.804029  0.253659\n",
      "16  1950       Alaska                  6.714826  0.296657\n",
      "17  1960       Alaska                  4.212035  0.274855\n",
      "18  1970       Alaska                  3.442384  0.268052\n",
      "19  1980       Alaska                  2.759396  0.275075\n",
      "20  1990      Wyoming                  2.645014  0.265492\n",
      "21  2000      Wyoming                  2.741620  0.253403\n",
      "22  2010      Wyoming                  2.605288  0.259431\n"
     ]
    }
   ],
   "source": [
    "decade_dict = {'Year':years, 'State': max_overrep_state, 'Overrepresentation Value': max_overrep_value, 'Centroid': centroid}\n",
    "decade_df = pd.DataFrame(decade_dict)\n",
    "\n",
    "print(decade_df)"
   ]
  },
  {
   "cell_type": "markdown",
   "metadata": {},
   "source": [
    "## Plot trends over time"
   ]
  },
  {
   "cell_type": "code",
   "execution_count": 16,
   "metadata": {},
   "outputs": [
    {
     "data": {
      "text/plain": [
       "<Figure size 1152x648 with 0 Axes>"
      ]
     },
     "metadata": {},
     "output_type": "display_data"
    },
    {
     "data": {
      "text/plain": [
       "<Figure size 1152x648 with 0 Axes>"
      ]
     },
     "metadata": {},
     "output_type": "display_data"
    }
   ],
   "source": [
    "decade_df.plot.line('Year', 'Overrepresentation Value', figsize=(16,9))\n",
    "plt.savefig(\"Overrepresentation Value.png\")\n",
    "plt.clf()\n",
    "\n",
    "decade_df.plot.line('Year', 'Centroid', figsize=(16,9))\n",
    "plt.savefig('Centroid.png')\n",
    "plt.clf()"
   ]
  },
  {
   "cell_type": "markdown",
   "metadata": {},
   "source": [
    "## Percent of Population over 1.0 Representation"
   ]
  },
  {
   "cell_type": "code",
   "execution_count": null,
   "metadata": {},
   "outputs": [],
   "source": []
  }
 ],
 "metadata": {
  "kernelspec": {
   "display_name": "Python 3",
   "language": "python",
   "name": "python3"
  },
  "language_info": {
   "codemirror_mode": {
    "name": "ipython",
    "version": 3
   },
   "file_extension": ".py",
   "mimetype": "text/x-python",
   "name": "python",
   "nbconvert_exporter": "python",
   "pygments_lexer": "ipython3",
   "version": "3.8.1"
  }
 },
 "nbformat": 4,
 "nbformat_minor": 4
}
