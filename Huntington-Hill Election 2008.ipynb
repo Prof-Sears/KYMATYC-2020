{
 "cells": [
  {
   "cell_type": "markdown",
   "metadata": {},
   "source": [
    "# Huntington-Hill Proportional Distribution - 2008 Results\n",
    "\n",
    "We take the votes from the 2008 U.S. Presidentail Election and distribute the electoral votes proportionally.\n",
    "\n",
    "## Import Pandas libraries"
   ]
  },
  {
   "cell_type": "code",
   "execution_count": 1,
   "metadata": {},
   "outputs": [],
   "source": [
    "import math\n",
    "import numpy as np\n",
    "import pandas as pd"
   ]
  },
  {
   "cell_type": "markdown",
   "metadata": {},
   "source": [
    "## Distribute electors proportionally\n",
    "\n",
    "This function takes a list of votes and a number of electors and then calculates the proportional distribution using the Huntington-Hill method. Apportionment starts at 0, unlike in apportioning congressional seats."
   ]
  },
  {
   "cell_type": "code",
   "execution_count": 2,
   "metadata": {},
   "outputs": [],
   "source": [
    "# This is a function to do Huntington-Hill apportionment using Proportional parts\n",
    "# states_df: a Pandas dataframe containing the following series: 'State', 'Population'\n",
    "def Huntington_Hill(votes, electors):\n",
    "    priority_values = {}\n",
    "    apportionment = {}\n",
    "    \n",
    "    print('State {0}'.format(votes['State']))\n",
    "    \n",
    "    for i in votes.keys():\n",
    "        if(not i == 'State'):\n",
    "            apportionment[i] = 0\n",
    "            priority_values[i] = votes[i]\n",
    "        \n",
    "    for i in range(electors):\n",
    "        maxpos = max(priority_values, key=priority_values.get)\n",
    "        apportionment[maxpos] += 1\n",
    "        priority_values[maxpos] = votes[maxpos]/math.sqrt(apportionment[maxpos]*(apportionment[maxpos]+1))\n",
    "        \n",
    "    return apportionment"
   ]
  },
  {
   "cell_type": "markdown",
   "metadata": {},
   "source": [
    "## Process election results\n",
    "\n",
    "\n",
    "This functions takes a Pandas dataframe of votes from each state, and another dataframe of electoral votes for each state. The function then does the Huntington-Hill apportionment of electors for each state. The results is a dataframe containing the electoral votes for each candidate in every state."
   ]
  },
  {
   "cell_type": "code",
   "execution_count": 3,
   "metadata": {},
   "outputs": [],
   "source": [
    "def process_election(votes_df, electoral_df):\n",
    "    results_list = []\n",
    "    votes_rows = votes_df.to_dict('records')\n",
    "    \n",
    "    for i in range(len(votes_rows)):\n",
    "        results_list.append(Huntington_Hill(votes_rows[i], electoral_df.at[i,'Electoral Votes']))\n",
    "        \n",
    "    results_df = pd.DataFrame(results_list)\n",
    "    \n",
    "    return results_df\n",
    "            "
   ]
  },
  {
   "cell_type": "code",
   "execution_count": 4,
   "metadata": {},
   "outputs": [
    {
     "name": "stdout",
     "output_type": "stream",
     "text": [
      "State Alabama\n",
      "State Alaska\n",
      "State Arizona\n",
      "State Arkansas\n",
      "State California\n",
      "State Colorado\n",
      "State Connecticut\n",
      "State Delaware\n",
      "State District of Columbia \n",
      "State Florida\n",
      "State Georgia\n",
      "State Hawaii\n",
      "State Idaho\n",
      "State Illinois\n",
      "State Indiana\n",
      "State Iowa\n",
      "State Kansas\n",
      "State Kentucky\n",
      "State Louisiana\n",
      "State Maine\n",
      "State Maryland\n",
      "State Massachusetts\n",
      "State Michigan\n",
      "State Minnesota\n",
      "State Mississippi\n",
      "State Missouri\n",
      "State Montana\n",
      "State Nebraska\n",
      "State Nevada\n",
      "State New Hampshire\n",
      "State New Jersey\n",
      "State New Mexico\n",
      "State New York\n",
      "State North Carolina\n",
      "State North Dakota\n",
      "State Ohio\n",
      "State Oklahoma\n",
      "State Oregon\n",
      "State Pennsylvania\n",
      "State Rhode Island\n",
      "State South Carolina\n",
      "State South Dakota\n",
      "State Tennessee\n",
      "State Texas\n",
      "State Utah\n",
      "State Vermont\n",
      "State Virginia\n",
      "State Washington\n",
      "State West Virginia\n",
      "State Wisconsin\n",
      "State Wyoming\n"
     ]
    }
   ],
   "source": [
    "votes_df = pd.read_csv('2008_votes.csv')\n",
    "electoral_df = pd.read_csv('Census_Data_By_Year - 2000.csv')\n",
    "results_df = process_election(votes_df, electoral_df)"
   ]
  },
  {
   "cell_type": "markdown",
   "metadata": {},
   "source": [
    "## Summarize the results\n",
    "\n",
    "The distribution of electors is printed for each state. Then the totals are printed."
   ]
  },
  {
   "cell_type": "code",
   "execution_count": 5,
   "metadata": {},
   "outputs": [
    {
     "name": "stdout",
     "output_type": "stream",
     "text": [
      "    Obama  McCain  Nader  Barr  Baldwin  McKinney  Other\n",
      "0       4       5      0     0        0         0      0\n",
      "1       1       2      0     0        0         0      0\n",
      "2       5       5      0     0        0         0      0\n",
      "3       2       4      0     0        0         0      0\n",
      "4      34      21      0     0        0         0      0\n",
      "5       5       4      0     0        0         0      0\n",
      "6       4       3      0     0        0         0      0\n",
      "7       2       1      0     0        0         0      0\n",
      "8       3       0      0     0        0         0      0\n",
      "9      14      13      0     0        0         0      0\n",
      "10      7       8      0     0        0         0      0\n",
      "11      3       1      0     0        0         0      0\n",
      "12      2       2      0     0        0         0      0\n",
      "13     13       8      0     0        0         0      0\n",
      "14      6       5      0     0        0         0      0\n",
      "15      4       3      0     0        0         0      0\n",
      "16      3       3      0     0        0         0      0\n",
      "17      3       5      0     0        0         0      0\n",
      "18      4       5      0     0        0         0      0\n",
      "19      2       2      0     0        0         0      0\n",
      "20      6       4      0     0        0         0      0\n",
      "21      8       4      0     0        0         0      0\n",
      "22     10       7      0     0        0         0      0\n",
      "23      6       4      0     0        0         0      0\n",
      "24      3       3      0     0        0         0      0\n",
      "25      5       6      0     0        0         0      0\n",
      "26      1       2      0     0        0         0      0\n",
      "27      2       3      0     0        0         0      0\n",
      "28      3       2      0     0        0         0      0\n",
      "29      2       2      0     0        0         0      0\n",
      "30      9       6      0     0        0         0      0\n",
      "31      3       2      0     0        0         0      0\n",
      "32     20      11      0     0        0         0      0\n",
      "33      8       7      0     0        0         0      0\n",
      "34      1       2      0     0        0         0      0\n",
      "35     10      10      0     0        0         0      0\n",
      "36      2       5      0     0        0         0      0\n",
      "37      4       3      0     0        0         0      0\n",
      "38     12       9      0     0        0         0      0\n",
      "39      3       1      0     0        0         0      0\n",
      "40      4       4      0     0        0         0      0\n",
      "41      1       2      0     0        0         0      0\n",
      "42      5       6      0     0        0         0      0\n",
      "43     15      19      0     0        0         0      0\n",
      "44      2       3      0     0        0         0      0\n",
      "45      2       1      0     0        0         0      0\n",
      "46      7       6      0     0        0         0      0\n",
      "47      6       5      0     0        0         0      0\n",
      "48      2       3      0     0        0         0      0\n",
      "49      6       4      0     0        0         0      0\n",
      "50      1       2      0     0        0         0      0\n",
      "\n",
      "\n",
      "\t\tTotals\n",
      "Obama       290\n",
      "McCain      248\n",
      "Nader         0\n",
      "Barr          0\n",
      "Baldwin       0\n",
      "McKinney      0\n",
      "Other         0\n",
      "dtype: int64\n"
     ]
    }
   ],
   "source": [
    "print(results_df)\n",
    "print('\\n\\n\\t\\tTotals')\n",
    "print(results_df.sum())"
   ]
  },
  {
   "cell_type": "markdown",
   "metadata": {},
   "source": [
    "## Now repeat with the \"maximal\" apportionment"
   ]
  },
  {
   "cell_type": "code",
   "execution_count": 6,
   "metadata": {
    "scrolled": true
   },
   "outputs": [
    {
     "name": "stdout",
     "output_type": "stream",
     "text": [
      "State Alabama\n",
      "State Alaska\n",
      "State Arizona\n",
      "State Arkansas\n",
      "State California\n",
      "State Colorado\n",
      "State Connecticut\n",
      "State Delaware\n",
      "State District of Columbia \n",
      "State Florida\n",
      "State Georgia\n",
      "State Hawaii\n",
      "State Idaho\n",
      "State Illinois\n",
      "State Indiana\n",
      "State Iowa\n",
      "State Kansas\n",
      "State Kentucky\n",
      "State Louisiana\n",
      "State Maine\n",
      "State Maryland\n",
      "State Massachusetts\n",
      "State Michigan\n",
      "State Minnesota\n",
      "State Mississippi\n",
      "State Missouri\n",
      "State Montana\n",
      "State Nebraska\n",
      "State Nevada\n",
      "State New Hampshire\n",
      "State New Jersey\n",
      "State New Mexico\n",
      "State New York\n",
      "State North Carolina\n",
      "State North Dakota\n",
      "State Ohio\n",
      "State Oklahoma\n",
      "State Oregon\n",
      "State Pennsylvania\n",
      "State Rhode Island\n",
      "State South Carolina\n",
      "State South Dakota\n",
      "State Tennessee\n",
      "State Texas\n",
      "State Utah\n",
      "State Vermont\n",
      "State Virginia\n",
      "State Washington\n",
      "State West Virginia\n",
      "State Wisconsin\n",
      "State Wyoming\n"
     ]
    }
   ],
   "source": [
    "max_electoral_df = pd.read_csv('max_1990_apportionment.csv')\n",
    "max_results_df = process_election(votes_df, max_electoral_df)"
   ]
  },
  {
   "cell_type": "code",
   "execution_count": 7,
   "metadata": {},
   "outputs": [
    {
     "name": "stdout",
     "output_type": "stream",
     "text": [
      "    Obama  McCain  Nader  Barr  Baldwin  McKinney  Other\n",
      "0       6       9      0     0        0         0      0\n",
      "1       2       2      0     0        0         0      0\n",
      "2       6       7      0     0        0         0      0\n",
      "3       4       5      0     0        0         0      0\n",
      "4      59      36      0     0        0         0      0\n",
      "5       7       5      0     0        0         0      0\n",
      "6       7       5      0     0        0         0      0\n",
      "7       2       2      0     0        0         0      0\n",
      "8       3       0      0     0        0         0      0\n",
      "9      22      20      0     0        0         0      0\n",
      "10     10      12      0     0        0         0      0\n",
      "11      4       1      0     0        0         0      0\n",
      "12      2       3      0     0        0         0      0\n",
      "13     24      14      0     0        0         0      0\n",
      "14     10       9      0     0        0         0      0\n",
      "15      6       5      0     0        0         0      0\n",
      "16      4       6      0     0        0         0      0\n",
      "17      5       8      0     0        0         0      0\n",
      "18      6       9      0     0        0         0      0\n",
      "19      4       2      0     0        0         0      0\n",
      "20     11       6      0     0        0         0      0\n",
      "21     13       8      0     0        0         0      0\n",
      "22     18      13      0     0        0         0      0\n",
      "23      9       7      0     0        0         0      0\n",
      "24      4       6      0     0        0         0      0\n",
      "25      9       9      0     0        0         0      0\n",
      "26      2       3      0     0        0         0      0\n",
      "27      3       4      0     0        0         0      0\n",
      "28      3       3      0     0        0         0      0\n",
      "29      3       2      0     0        0         0      0\n",
      "30     15      11      0     0        0         0      0\n",
      "31      4       3      0     0        0         0      0\n",
      "32     37      21      0     0        0         0      0\n",
      "33     12      11      0     0        0         0      0\n",
      "34      2       2      0     0        0         0      0\n",
      "35     19      17      0     0        0         0      0\n",
      "36      4       8      0     0        0         0      0\n",
      "37      6       5      0     0        0         0      0\n",
      "38     22      17      0     0        0         0      0\n",
      "39      3       2      0     0        0         0      0\n",
      "40      6       7      0     0        0         0      0\n",
      "41      2       2      0     0        0         0      0\n",
      "42      7      10      0     0        0         0      0\n",
      "43     24      31      0     0        0         0      0\n",
      "44      3       4      0     0        0         0      0\n",
      "45      3       1      0     0        0         0      0\n",
      "46     11      10      0     0        0         0      0\n",
      "47     10       7      0     0        0         0      0\n",
      "48      3       5      0     0        0         0      0\n",
      "49     10       7      0     0        0         0      0\n",
      "50      1       3      0     0        0         0      0\n",
      "\n",
      "\n",
      "\t\tTotals\n",
      "Obama       472\n",
      "McCain      405\n",
      "Nader         0\n",
      "Barr          0\n",
      "Baldwin       0\n",
      "McKinney      0\n",
      "Other         0\n",
      "dtype: int64\n"
     ]
    }
   ],
   "source": [
    "print(max_results_df)\n",
    "print('\\n\\n\\t\\tTotals')\n",
    "print(max_results_df.sum())"
   ]
  }
 ],
 "metadata": {
  "kernelspec": {
   "display_name": "Python 3",
   "language": "python",
   "name": "python3"
  },
  "language_info": {
   "codemirror_mode": {
    "name": "ipython",
    "version": 3
   },
   "file_extension": ".py",
   "mimetype": "text/x-python",
   "name": "python",
   "nbconvert_exporter": "python",
   "pygments_lexer": "ipython3",
   "version": "3.7.4"
  }
 },
 "nbformat": 4,
 "nbformat_minor": 2
}
