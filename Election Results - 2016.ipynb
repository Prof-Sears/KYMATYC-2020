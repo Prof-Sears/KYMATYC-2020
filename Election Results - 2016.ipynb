{
 "cells": [
  {
   "cell_type": "code",
   "execution_count": 1,
   "metadata": {},
   "outputs": [],
   "source": [
    "# Import libraries\n",
    "import numpy as np\n",
    "import pandas as pd"
   ]
  },
  {
   "cell_type": "code",
   "execution_count": 2,
   "metadata": {},
   "outputs": [
    {
     "name": "stdout",
     "output_type": "stream",
     "text": [
      "                   State  Apportionment  Electoral Votes\n",
      "0                Alabama           12.0               14\n",
      "1                 Alaska            2.0                4\n",
      "2                Arizona           16.0               18\n",
      "3               Arkansas            7.0                9\n",
      "4             California           93.0               95\n",
      "5               Colorado           13.0               15\n",
      "6            Connecticut            9.0               11\n",
      "7               Delaware            2.0                4\n",
      "8   District of Columbia            NaN                3\n",
      "9                Florida           47.0               49\n",
      "10               Georgia           24.0               26\n",
      "11                Hawaii            3.0                5\n",
      "12                 Idaho            4.0                6\n",
      "13              Illinois           32.0               34\n",
      "14               Indiana           16.0               18\n",
      "15                  Iowa            8.0               10\n",
      "16                Kansas            7.0                9\n",
      "17              Kentucky           11.0               13\n",
      "18             Louisiana           11.0               13\n",
      "19                 Maine            3.0                5\n",
      "20              Maryland           14.0               16\n",
      "21         Massachusetts           16.0               18\n",
      "22              Michigan           25.0               27\n",
      "23             Minnesota           13.0               15\n",
      "24           Mississippi            7.0                9\n",
      "25              Missouri           15.0               17\n",
      "26               Montana            3.0                5\n",
      "27              Nebraska            5.0                7\n",
      "28                Nevada            7.0                9\n",
      "29         New Hampshire            3.0                5\n",
      "30            New Jersey           22.0               24\n",
      "31            New Mexico            5.0                7\n",
      "32              New York           49.0               51\n",
      "33        North Carolina           24.0               26\n",
      "34          North Dakota            2.0                4\n",
      "35                  Ohio           29.0               31\n",
      "36              Oklahoma            9.0               11\n",
      "37                Oregon           10.0               12\n",
      "38          Pennsylvania           32.0               34\n",
      "39          Rhode Island            3.0                5\n",
      "40        South Carolina           12.0               14\n",
      "41          South Dakota            2.0                4\n",
      "42             Tennessee           16.0               18\n",
      "43                 Texas           63.0               65\n",
      "44                  Utah            7.0                9\n",
      "45               Vermont            2.0                4\n",
      "46              Virginia           20.0               22\n",
      "47            Washington           17.0               19\n",
      "48         West Virginia            5.0                7\n",
      "49             Wisconsin           14.0               16\n",
      "50               Wyoming            2.0                4\n",
      "                   State  Result\n",
      "0                Alabama   -1.00\n",
      "1                 Alaska   -1.00\n",
      "2                Arizona   -1.00\n",
      "3               Arkansas   -1.00\n",
      "4             California    1.00\n",
      "5               Colorado    1.00\n",
      "6            Connecticut    1.00\n",
      "7               Delaware    1.00\n",
      "8   District of Columbia    1.00\n",
      "9                Florida   -1.00\n",
      "10               Georgia   -1.00\n",
      "11                Hawaii    1.00\n",
      "12                 Idaho   -1.00\n",
      "13              Illinois    1.00\n",
      "14               Indiana   -1.00\n",
      "15                  Iowa   -1.00\n",
      "16                Kansas   -1.00\n",
      "17              Kentucky   -1.00\n",
      "18             Louisiana   -1.00\n",
      "19                 Maine    0.75\n",
      "20              Maryland    1.00\n",
      "21         Massachusetts    1.00\n",
      "22              Michigan   -1.00\n",
      "23             Minnesota    1.00\n",
      "24           Mississippi   -1.00\n",
      "25              Missouri   -1.00\n",
      "26               Montana   -1.00\n",
      "27              Nebraska   -1.00\n",
      "28                Nevada    1.00\n",
      "29         New Hampshire    1.00\n",
      "30            New Jersey    1.00\n",
      "31            New Mexico    1.00\n",
      "32              New York    1.00\n",
      "33        North Carolina   -1.00\n",
      "34          North Dakota   -1.00\n",
      "35                  Ohio   -1.00\n",
      "36              Oklahoma   -1.00\n",
      "37                Oregon    1.00\n",
      "38          Pennsylvania   -1.00\n",
      "39          Rhode Island    1.00\n",
      "40        South Carolina   -1.00\n",
      "41          South Dakota   -1.00\n",
      "42             Tennessee   -1.00\n",
      "43                 Texas   -1.00\n",
      "44                  Utah   -1.00\n",
      "45               Vermont    1.00\n",
      "46              Virginia    1.00\n",
      "47            Washington    1.00\n",
      "48         West Virginia   -1.00\n",
      "49             Wisconsin   -1.00\n",
      "50               Wyoming   -1.00\n"
     ]
    }
   ],
   "source": [
    "# Import Electoral College Votes and Election Results\n",
    "electoral_df = pd.read_csv(\"max_2010_apportionment.csv\")\n",
    "voting_df = pd.read_csv(\"2016_results.csv\")\n",
    "print(electoral_df)\n",
    "print(voting_df)"
   ]
  },
  {
   "cell_type": "code",
   "execution_count": 12,
   "metadata": {},
   "outputs": [],
   "source": [
    "def winner(electoral_df, voting_df):\n",
    "    results_list = []\n",
    "    for index, value in electoral_df['State'].items():\n",
    "        if(voting_df.at[index,'Result'] > 0):\n",
    "            results_list.append({'State':value,\n",
    "                                 'Dem':voting_df.at[index,'Result']*electoral_df.at[index,'Electoral Votes'],\n",
    "                                 'Rep':(1-voting_df.at[index,'Result'])*electoral_df.at[index,'Electoral Votes']})\n",
    "        else:\n",
    "            results_list.append({'State':value,\n",
    "                                 'Dem':(1+voting_df.at[index,'Result'])*electoral_df.at[index,'Electoral Votes'],\n",
    "                                 'Rep':(0-voting_df.at[index,'Result'])*electoral_df.at[index,'Electoral Votes']})\n",
    "         \n",
    "        results = pd.DataFrame(results_list, columns=(['State','Dem', 'Rep']))\n",
    "    return results"
   ]
  },
  {
   "cell_type": "code",
   "execution_count": 13,
   "metadata": {},
   "outputs": [
    {
     "name": "stdout",
     "output_type": "stream",
     "text": [
      "                   State    Dem    Rep\n",
      "0                Alabama   0.00  14.00\n",
      "1                 Alaska   0.00   4.00\n",
      "2                Arizona   0.00  18.00\n",
      "3               Arkansas   0.00   9.00\n",
      "4             California  95.00   0.00\n",
      "5               Colorado  15.00   0.00\n",
      "6            Connecticut  11.00   0.00\n",
      "7               Delaware   4.00   0.00\n",
      "8   District of Columbia   3.00   0.00\n",
      "9                Florida   0.00  49.00\n",
      "10               Georgia   0.00  26.00\n",
      "11                Hawaii   5.00   0.00\n",
      "12                 Idaho   0.00   6.00\n",
      "13              Illinois  34.00   0.00\n",
      "14               Indiana   0.00  18.00\n",
      "15                  Iowa   0.00  10.00\n",
      "16                Kansas   0.00   9.00\n",
      "17              Kentucky   0.00  13.00\n",
      "18             Louisiana   0.00  13.00\n",
      "19                 Maine   3.75   1.25\n",
      "20              Maryland  16.00   0.00\n",
      "21         Massachusetts  18.00   0.00\n",
      "22              Michigan   0.00  27.00\n",
      "23             Minnesota  15.00   0.00\n",
      "24           Mississippi   0.00   9.00\n",
      "25              Missouri   0.00  17.00\n",
      "26               Montana   0.00   5.00\n",
      "27              Nebraska   0.00   7.00\n",
      "28                Nevada   9.00   0.00\n",
      "29         New Hampshire   5.00   0.00\n",
      "30            New Jersey  24.00   0.00\n",
      "31            New Mexico   7.00   0.00\n",
      "32              New York  51.00   0.00\n",
      "33        North Carolina   0.00  26.00\n",
      "34          North Dakota   0.00   4.00\n",
      "35                  Ohio   0.00  31.00\n",
      "36              Oklahoma   0.00  11.00\n",
      "37                Oregon  12.00   0.00\n",
      "38          Pennsylvania   0.00  34.00\n",
      "39          Rhode Island   5.00   0.00\n",
      "40        South Carolina   0.00  14.00\n",
      "41          South Dakota   0.00   4.00\n",
      "42             Tennessee   0.00  18.00\n",
      "43                 Texas   0.00  65.00\n",
      "44                  Utah   0.00   9.00\n",
      "45               Vermont   4.00   0.00\n",
      "46              Virginia  22.00   0.00\n",
      "47            Washington  19.00   0.00\n",
      "48         West Virginia   0.00   7.00\n",
      "49             Wisconsin   0.00  16.00\n",
      "50               Wyoming   0.00   4.00\n"
     ]
    }
   ],
   "source": [
    "results = winner(electoral_df, voting_df)\n",
    "print(results)"
   ]
  },
  {
   "cell_type": "code",
   "execution_count": 14,
   "metadata": {},
   "outputs": [
    {
     "name": "stdout",
     "output_type": "stream",
     "text": [
      "Election Results\n",
      "Democrat: 377.75\tRepublican 498.25\n"
     ]
    }
   ],
   "source": [
    "print('Election Results\\nDemocrat: {0}\\tRepublican {1}'.format(results['Dem'].sum(),results['Rep'].sum()))"
   ]
  },
  {
   "cell_type": "code",
   "execution_count": 15,
   "metadata": {},
   "outputs": [
    {
     "name": "stdout",
     "output_type": "stream",
     "text": [
      "876\n"
     ]
    }
   ],
   "source": [
    "print(electoral_df['Electoral Votes'].sum())"
   ]
  }
 ],
 "metadata": {
  "kernelspec": {
   "display_name": "Python 3",
   "language": "python",
   "name": "python3"
  },
  "language_info": {
   "codemirror_mode": {
    "name": "ipython",
    "version": 3
   },
   "file_extension": ".py",
   "mimetype": "text/x-python",
   "name": "python",
   "nbconvert_exporter": "python",
   "pygments_lexer": "ipython3",
   "version": "3.8.1"
  }
 },
 "nbformat": 4,
 "nbformat_minor": 2
}
